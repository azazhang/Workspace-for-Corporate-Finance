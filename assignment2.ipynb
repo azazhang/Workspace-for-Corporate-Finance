{
 "cells": [
  {
   "cell_type": "code",
   "execution_count": 54,
   "metadata": {},
   "outputs": [
    {
     "name": "stdout",
     "output_type": "stream",
     "text": [
      "Loading library list...\n",
      "Done\n"
     ]
    }
   ],
   "source": [
    "# get WRDS data\n",
    "import wrds\n",
    "conn = wrds.Connection(wrds_username='deadtomb')"
   ]
  },
  {
   "cell_type": "code",
   "execution_count": 55,
   "metadata": {},
   "outputs": [],
   "source": [
    "import pandas as pd"
   ]
  },
  {
   "cell_type": "code",
   "execution_count": 56,
   "metadata": {},
   "outputs": [],
   "source": [
    "conn.create_pgpass_file()"
   ]
  },
  {
   "cell_type": "code",
   "execution_count": 57,
   "metadata": {},
   "outputs": [
    {
     "data": {
      "text/plain": [
       "['ccm_lookup',\n",
       " 'ccm_qvards',\n",
       " 'ccmxpf_linktable',\n",
       " 'ccmxpf_lnkhist',\n",
       " 'ccmxpf_lnkrng',\n",
       " 'ccmxpf_lnkused',\n",
       " 'comphead',\n",
       " 'comphist',\n",
       " 'compmaster',\n",
       " 'cst_hist',\n",
       " 'sechead',\n",
       " 'sechist']"
      ]
     },
     "execution_count": 57,
     "metadata": {},
     "output_type": "execute_result"
    }
   ],
   "source": [
    "conn.list_tables(library='crsp_a_ccm')"
   ]
  },
  {
   "cell_type": "code",
   "execution_count": 58,
   "metadata": {},
   "outputs": [
    {
     "name": "stdout",
     "output_type": "stream",
     "text": [
      "Approximately 85574 rows in crsp_a_ccm.ccmxpf_linktable.\n"
     ]
    },
    {
     "data": {
      "text/html": [
       "<div>\n",
       "<style scoped>\n",
       "    .dataframe tbody tr th:only-of-type {\n",
       "        vertical-align: middle;\n",
       "    }\n",
       "\n",
       "    .dataframe tbody tr th {\n",
       "        vertical-align: top;\n",
       "    }\n",
       "\n",
       "    .dataframe thead th {\n",
       "        text-align: right;\n",
       "    }\n",
       "</style>\n",
       "<table border=\"1\" class=\"dataframe\">\n",
       "  <thead>\n",
       "    <tr style=\"text-align: right;\">\n",
       "      <th></th>\n",
       "      <th>name</th>\n",
       "      <th>nullable</th>\n",
       "      <th>type</th>\n",
       "      <th>comment</th>\n",
       "    </tr>\n",
       "  </thead>\n",
       "  <tbody>\n",
       "    <tr>\n",
       "      <th>0</th>\n",
       "      <td>gvkey</td>\n",
       "      <td>True</td>\n",
       "      <td>VARCHAR(6)</td>\n",
       "      <td>Standard and Poor's Identifier</td>\n",
       "    </tr>\n",
       "    <tr>\n",
       "      <th>1</th>\n",
       "      <td>linkprim</td>\n",
       "      <td>True</td>\n",
       "      <td>VARCHAR(1)</td>\n",
       "      <td>Primary Link Marker</td>\n",
       "    </tr>\n",
       "    <tr>\n",
       "      <th>2</th>\n",
       "      <td>liid</td>\n",
       "      <td>True</td>\n",
       "      <td>VARCHAR(3)</td>\n",
       "      <td>Security-level Identifer</td>\n",
       "    </tr>\n",
       "    <tr>\n",
       "      <th>3</th>\n",
       "      <td>linktype</td>\n",
       "      <td>True</td>\n",
       "      <td>VARCHAR(2)</td>\n",
       "      <td>Link Type Code</td>\n",
       "    </tr>\n",
       "    <tr>\n",
       "      <th>4</th>\n",
       "      <td>lpermno</td>\n",
       "      <td>True</td>\n",
       "      <td>DOUBLE PRECISION</td>\n",
       "      <td>Historical CRSP PERMNO Link to COMPUSTAT Record</td>\n",
       "    </tr>\n",
       "    <tr>\n",
       "      <th>5</th>\n",
       "      <td>lpermco</td>\n",
       "      <td>True</td>\n",
       "      <td>DOUBLE PRECISION</td>\n",
       "      <td>Historical CRSP PERMCO Link to COMPUSTAT Record</td>\n",
       "    </tr>\n",
       "    <tr>\n",
       "      <th>6</th>\n",
       "      <td>usedflag</td>\n",
       "      <td>True</td>\n",
       "      <td>DOUBLE PRECISION</td>\n",
       "      <td>Flag marking whether link is used in building ...</td>\n",
       "    </tr>\n",
       "    <tr>\n",
       "      <th>7</th>\n",
       "      <td>linkdt</td>\n",
       "      <td>True</td>\n",
       "      <td>DATE</td>\n",
       "      <td>First Effective Date of Link</td>\n",
       "    </tr>\n",
       "    <tr>\n",
       "      <th>8</th>\n",
       "      <td>linkenddt</td>\n",
       "      <td>True</td>\n",
       "      <td>DATE</td>\n",
       "      <td>Last Effective Date of Link</td>\n",
       "    </tr>\n",
       "  </tbody>\n",
       "</table>\n",
       "</div>"
      ],
      "text/plain": [
       "        name  nullable              type  \\\n",
       "0      gvkey      True        VARCHAR(6)   \n",
       "1   linkprim      True        VARCHAR(1)   \n",
       "2       liid      True        VARCHAR(3)   \n",
       "3   linktype      True        VARCHAR(2)   \n",
       "4    lpermno      True  DOUBLE PRECISION   \n",
       "5    lpermco      True  DOUBLE PRECISION   \n",
       "6   usedflag      True  DOUBLE PRECISION   \n",
       "7     linkdt      True              DATE   \n",
       "8  linkenddt      True              DATE   \n",
       "\n",
       "                                             comment  \n",
       "0                     Standard and Poor's Identifier  \n",
       "1                                Primary Link Marker  \n",
       "2                           Security-level Identifer  \n",
       "3                                     Link Type Code  \n",
       "4    Historical CRSP PERMNO Link to COMPUSTAT Record  \n",
       "5    Historical CRSP PERMCO Link to COMPUSTAT Record  \n",
       "6  Flag marking whether link is used in building ...  \n",
       "7                       First Effective Date of Link  \n",
       "8                        Last Effective Date of Link  "
      ]
     },
     "execution_count": 58,
     "metadata": {},
     "output_type": "execute_result"
    }
   ],
   "source": [
    "conn.describe_table(library='crsp_a_ccm', table='ccmxpf_linktable')"
   ]
  },
  {
   "cell_type": "code",
   "execution_count": 59,
   "metadata": {},
   "outputs": [],
   "source": [
    "link_table = conn.raw_sql(\"\"\"\n",
    "    SELECT gvkey, lpermno AS permno, linktype, linkprim, linkdt, linkenddt\n",
    "    FROM crsp.ccmxpf_linktable\n",
    "    WHERE linktype IN ('LU', 'LC') AND linkprim IN ('P', 'C')\n",
    "\"\"\")"
   ]
  },
  {
   "cell_type": "code",
   "execution_count": 60,
   "metadata": {},
   "outputs": [],
   "source": [
    "compustat_data = conn.raw_sql(\"\"\"\n",
    "    SELECT gvkey, fyear, datadate, at, ceq, csho, prcc_f, dlc, dltt, dvc, oibdp, sale, ppegt, xad, xrd, fyr\n",
    "    FROM comp.funda\n",
    "    WHERE indfmt = 'INDL' AND datafmt = 'STD' AND popsrc = 'D' AND consol = 'C' AND fyear BETWEEN 1950 AND 2021\n",
    "\"\"\")"
   ]
  }
 ],
 "metadata": {
  "kernelspec": {
   "display_name": "base",
   "language": "python",
   "name": "python3"
  },
  "language_info": {
   "codemirror_mode": {
    "name": "ipython",
    "version": 3
   },
   "file_extension": ".py",
   "mimetype": "text/x-python",
   "name": "python",
   "nbconvert_exporter": "python",
   "pygments_lexer": "ipython3",
   "version": "3.10.16"
  }
 },
 "nbformat": 4,
 "nbformat_minor": 2
}
